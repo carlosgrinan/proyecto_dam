{
 "cells": [
  {
   "cell_type": "code",
   "execution_count": null,
   "metadata": {},
   "outputs": [],
   "source": [
    "import os\n",
    "from dotenv import load_dotenv\n",
    "\n",
    "load_dotenv()\n",
    "from google.gmail.api import Gmail\n",
    "\n",
    "gmail = Gmail(os.getenv(\"REFRESH_TOKEN\"))\n",
    "gmail.get_emails(mock=True)"
   ]
  },
  {
   "cell_type": "code",
   "execution_count": 8,
   "metadata": {},
   "outputs": [
    {
     "name": "stdout",
     "output_type": "stream",
     "text": [
      "OpenAI API se ha conectado a la cuenta de Microsoft an**a@live.com.\n",
      "\n",
      "Si no se ha concedido este acceso, se deben eliminar las aplicaciones de la cuenta.\n",
      "\n",
      "Administrar las aplicaciones \n",
      "\n",
      "También existe la opción de desactivar  las notificaciones de seguridad o cambiar la ubicación en la que se reciben.\n",
      "\n",
      "Gracias,\n",
      "El equipo de cuentas de Microsoft \n"
     ]
    }
   ],
   "source": [
    "import json\n",
    "from google.gmail.utils import get_text\n",
    "\n",
    "with open('mock_data/unsupported/messages-batch-get.json') as json_file:\n",
    "    message = json.load(json_file)\n",
    "\n",
    "text = get_text(message)\n",
    "print(text)"
   ]
  }
 ],
 "metadata": {
  "kernelspec": {
   "display_name": "myenv",
   "language": "python",
   "name": "python3"
  },
  "language_info": {
   "codemirror_mode": {
    "name": "ipython",
    "version": 3
   },
   "file_extension": ".py",
   "mimetype": "text/x-python",
   "name": "python",
   "nbconvert_exporter": "python",
   "pygments_lexer": "ipython3",
   "version": "3.8.10"
  },
  "orig_nbformat": 4
 },
 "nbformat": 4,
 "nbformat_minor": 2
}
